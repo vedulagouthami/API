{
  "nbformat": 4,
  "nbformat_minor": 0,
  "metadata": {
    "colab": {
      "provenance": []
    },
    "kernelspec": {
      "name": "python3",
      "display_name": "Python 3"
    },
    "language_info": {
      "name": "python"
    }
  },
  "cells": [
    {
      "cell_type": "code",
      "execution_count": null,
      "metadata": {
        "id": "ZJlqqK_A8ZXH"
      },
      "outputs": [],
      "source": []
    },
    {
      "cell_type": "markdown",
      "source": [
        "1. What is a RESTful API\n"
      ],
      "metadata": {
        "id": "5uGo9AzF8aV6"
      }
    },
    {
      "cell_type": "markdown",
      "source": [
        "A RESTful API (Representational State Transfer API) is a type of web service that follows the principles of the REST architectural style. It allows communication between clients (like web browsers or mobile apps) and servers over the HTTP protocol."
      ],
      "metadata": {
        "id": "WxVHzv-t8hin"
      }
    },
    {
      "cell_type": "markdown",
      "source": [
        "2. Explain the concept of API specification\n",
        "-An API specification is a detailed document (or file) that describes how an API works and how developers should use it. It defines the rules, structure, and behavior of the API so that both the client and server can communicate correctly.\n",
        "\n",
        "\n"
      ],
      "metadata": {
        "id": "eAAJlB4Z8lR5"
      }
    },
    {
      "cell_type": "markdown",
      "source": [
        "3. What is Flask, and why is it popular for building APIs\n",
        "-Flask is a lightweight, Python-based web framework used for building web applications and APIs. It is part of the microframework category, meaning it provides the core features for web development but leaves many components (like database integration, authentication, etc.) for developers to add as needed.\n",
        "\n",
        "\n"
      ],
      "metadata": {
        "id": "sQy_ciza8wnH"
      }
    },
    {
      "cell_type": "markdown",
      "source": [
        "4. What is routing in Flask\n",
        "-Routing in Flask is the process of mapping a URL (web address) to a specific function (called a view function) that handles the request and returns a response.\n",
        "\n",
        "When you create a Flask app, you define routes using the @app.route() decorator"
      ],
      "metadata": {
        "id": "xBinyCav86fJ"
      }
    },
    {
      "cell_type": "markdown",
      "source": [
        "5.How do you create a simple Flask application\n",
        "-✅ Flask(__name__) → Creates the Flask application object.\n",
        "✅ @app.route(\"/\") → Maps the URL / to the function below it.\n",
        "✅ app.run() → Starts the development server.\n",
        "\n"
      ],
      "metadata": {
        "id": "ntvGMtKY9GUs"
      }
    },
    {
      "cell_type": "markdown",
      "source": [
        "6. What are HTTP methods used in RESTful APIs\n",
        "-✅ GET → Always safe, does not modify data.\n",
        "✅ POST, PUT, PATCH, DELETE → Modify data.\n",
        "✅ PUT replaces entire resource, while PATCH updates only specific fields.\n"
      ],
      "metadata": {
        "id": "8dia-jol9Uf6"
      }
    },
    {
      "cell_type": "markdown",
      "source": [
        "7. What is the purpose of the @app.route() decorator in Flask\n",
        "-The @app.route() decorator in Flask is used to define a route – it tells Flask which URL should trigger a specific function (view function).\n",
        "\n"
      ],
      "metadata": {
        "id": "hRPwe0N_9hgp"
      }
    },
    {
      "cell_type": "markdown",
      "source": [
        "8. What is the difference between GET and POST HTTP methods\n",
        "-GET is safe and idempotent → It only retrieves data.\n",
        "\n",
        "POST is used for data changes → Creating or submitting new information."
      ],
      "metadata": {
        "id": "vS6iQX6v9vjE"
      }
    },
    {
      "cell_type": "markdown",
      "source": [
        "9. How do you handle errors in Flask APIs\n",
        "-In Flask APIs, errors can be handled using:\n",
        "✅ try-except blocks\n",
        "✅ Custom error handlers\n",
        "✅ Flask’s abort() function\n",
        "✅ Returning proper HTTP status codes\n",
        "\n",
        "\n"
      ],
      "metadata": {
        "id": "PGuh-pon965P"
      }
    },
    {
      "cell_type": "markdown",
      "source": [
        "10. How do you connect Flask to a SQL database\n",
        "-To connect Flask to a SQL database, the most common way is to use Flask-SQLAlchemy, which is an ORM (Object Relational Mapper) for Flask.\n",
        "\n"
      ],
      "metadata": {
        "id": "t8ZuempQ-DuS"
      }
    },
    {
      "cell_type": "markdown",
      "source": [
        "11. What is the role of Flask-SQLAlchemy\n",
        "-Flask-SQLAlchemy is an extension for Flask that integrates the SQLAlchemy ORM (Object Relational Mapper) with Flask applications.\n",
        "\n",
        "It makes it easier to connect Flask apps to databases and perform operations like creating tables, inserting data, querying, updating, and deleting records using Python classes instead of writing raw SQL."
      ],
      "metadata": {
        "id": "uqcTeIMs-ND7"
      }
    },
    {
      "cell_type": "markdown",
      "source": [
        "12. What are Flask blueprints, and how are they useful\n",
        "-Flask Blueprints are a way to organize a Flask application into smaller, modular components. Instead of writing all routes, views, and logic in a single app.py file, blueprints allow you to group related routes and functionalities together.\n",
        "\n"
      ],
      "metadata": {
        "id": "DqecYNla-YwR"
      }
    },
    {
      "cell_type": "markdown",
      "source": [
        "13. What is the purpose of Flask's request object\n",
        "-The request object in Flask is used to access incoming HTTP request data sent by the client (browser, API client, etc.) to the Flask server.\n",
        "\n",
        "It is provided by Flask as part of the flask module, and it represents the current HTTP request being handled.\n",
        "\n"
      ],
      "metadata": {
        "id": "xE_Lkk-r-ixe"
      }
    },
    {
      "cell_type": "markdown",
      "source": [
        "14. How do you create a RESTful API endpoint using Flask\n",
        "-To create a RESTful API endpoint using Flask, you define routes (@app.route) that respond to HTTP methods (GET, POST, PUT, DELETE) and return JSON responses.\n",
        "\n"
      ],
      "metadata": {
        "id": "iq37YKtp-tsA"
      }
    },
    {
      "cell_type": "markdown",
      "source": [
        "15. What is the purpose of Flask's jsonify() function\n",
        "-The jsonify() function in Flask is used to convert Python data structures (like dict, list) into JSON format and send them as a proper HTTP response.\n",
        "\n"
      ],
      "metadata": {
        "id": "VRJxjsPh-3Ph"
      }
    },
    {
      "cell_type": "markdown",
      "source": [
        "16. Explain Flask’s url_for() function\n",
        "-The url_for() function in Flask is used to build dynamic URLs for routes in your application.\n",
        "Instead of hardcoding URLs, you pass the function name (endpoint) and any required parameters to url_for(), and Flask generates the correct URL.\n",
        "\n"
      ],
      "metadata": {
        "id": "_SPaU96H_Avw"
      }
    },
    {
      "cell_type": "markdown",
      "source": [
        "17. How does Flask handle static files (CSS, JavaScript, etc.)\n",
        "-Always use url_for('static', filename='file.css') instead of hardcoding /static/file.css (best practice).\n"
      ],
      "metadata": {
        "id": "j9Y_gSac_Jd6"
      }
    },
    {
      "cell_type": "markdown",
      "source": [
        "18. What is an API specification, and how does it help in building a Flask API\n",
        "-An API Specification is a detailed document that defines how an API should work.\n",
        "It describes:\n",
        "✔️ Available endpoints (URLs)\n",
        "✔️ HTTP methods (GET, POST, PUT, DELETE, etc.)\n",
        "✔️ Request parameters (query params, body, headers)\n",
        "✔️ Response structure (status codes, JSON format)\n",
        "✔️ Authentication details (if any)"
      ],
      "metadata": {
        "id": "p0cr2Lsu_Vy0"
      }
    },
    {
      "cell_type": "markdown",
      "source": [
        "19. What are HTTP status codes, and why are they important in a Flask API\n",
        "-HTTP status codes are three-digit numbers returned by a server in response to an HTTP request.\n",
        "They indicate whether the request was successful, failed, or needs further action.\n",
        "\n"
      ],
      "metadata": {
        "id": "kTsdy86W_gYU"
      }
    },
    {
      "cell_type": "markdown",
      "source": [
        "20.How do you handle POST requests in Flask\n",
        "-In Flask, POST requests are handled by:\n",
        "1️⃣ Defining a route with methods=[\"POST\"]\n",
        "2️⃣ Accessing data sent in the request (form data, JSON, or files)\n",
        "3️⃣ Returning a proper response\n",
        "\n"
      ],
      "metadata": {
        "id": "5IkMMANF_rDs"
      }
    },
    {
      "cell_type": "markdown",
      "source": [
        "21. How would you secure a Flask API\n",
        "-Securing a Flask API is very important to protect sensitive data and prevent attacks like unauthorized access, data leaks, or injection attacks.\n",
        "\n"
      ],
      "metadata": {
        "id": "Tlk7pCCd_zdB"
      }
    },
    {
      "cell_type": "markdown",
      "source": [
        "22. What is the significance of the Flask-RESTful extension\n",
        "-Flask-RESTful is an extension for Flask that makes it easier to build RESTful APIs.\n",
        "It provides tools to organize API endpoints as resources (classes) instead of defining all routes with @app.route().\n",
        "\n"
      ],
      "metadata": {
        "id": "sbr5MlhF_8JA"
      }
    },
    {
      "cell_type": "markdown",
      "source": [
        "23. What is the role of Flask’s session object?\n",
        "-The session object in Flask is used to store data for a user across multiple requests.\n",
        "It uses secure cookies (client-side storage) by default, but the data is cryptographically signed so that the client cannot modify it."
      ],
      "metadata": {
        "id": "2i239_xzAHYb"
      }
    },
    {
      "cell_type": "markdown",
      "source": [
        "1.How do you create a basic Flask application\n"
      ],
      "metadata": {
        "id": "UHyYuhX1AQ46"
      }
    },
    {
      "cell_type": "code",
      "source": [
        "from flask import Flask\n",
        "\n",
        "# Create a Flask application\n",
        "app = Flask(__name__)\n",
        "\n",
        "# Define a route\n",
        "@app.route(\"/\")\n",
        "def home():\n",
        "    return \"Hello, Flask!\"\n",
        "\n",
        "# Run the app\n",
        "if __name__ == \"__main__\":\n",
        "    app.run(debug=True)\n"
      ],
      "metadata": {
        "colab": {
          "base_uri": "https://localhost:8080/"
        },
        "id": "2TvQtmYyAXP9",
        "outputId": "a641302d-d23c-40f6-d908-5f5de8bf89e1"
      },
      "execution_count": null,
      "outputs": [
        {
          "output_type": "stream",
          "name": "stdout",
          "text": [
            " * Serving Flask app '__main__'\n",
            " * Debug mode: on\n"
          ]
        },
        {
          "output_type": "stream",
          "name": "stderr",
          "text": [
            "INFO:werkzeug:\u001b[31m\u001b[1mWARNING: This is a development server. Do not use it in a production deployment. Use a production WSGI server instead.\u001b[0m\n",
            " * Running on http://127.0.0.1:5000\n",
            "INFO:werkzeug:\u001b[33mPress CTRL+C to quit\u001b[0m\n",
            "INFO:werkzeug: * Restarting with stat\n"
          ]
        }
      ]
    },
    {
      "cell_type": "code",
      "source": [],
      "metadata": {
        "id": "54dANcbVAlXX"
      },
      "execution_count": null,
      "outputs": []
    },
    {
      "cell_type": "markdown",
      "source": [
        "2.How do you serve static files like images or CSS in Flask\n"
      ],
      "metadata": {
        "id": "tkHjRiPwAs4c"
      }
    },
    {
      "cell_type": "code",
      "source": [
        "<!DOCTYPE html>\n",
        "<html>\n",
        "<head>\n",
        "    <title>Flask Static Example</title>\n",
        "\n",
        "    <!-- Linking CSS -->\n",
        "    <link rel=\"stylesheet\" href=\"{{ url_for('static', filename='style.css') }}\">\n",
        "</head>\n",
        "<body>\n",
        "    <h1>Hello Flask!</h1>\n",
        "\n",
        "    <!-- Adding an Image -->\n",
        "    <img src=\"{{ url_for('static', filename='logo.png') }}\" alt=\"Logo\">\n",
        "\n",
        "    <!-- Linking JS -->\n",
        "    <script src=\"{{ url_for('static', filename='script.js') }}\"></script>\n",
        "</body>\n",
        "</html>\n"
      ],
      "metadata": {
        "id": "36NVuMeqA-Eo"
      },
      "execution_count": null,
      "outputs": []
    },
    {
      "cell_type": "code",
      "source": [],
      "metadata": {
        "id": "FF4V_rLHA-27"
      },
      "execution_count": null,
      "outputs": []
    },
    {
      "cell_type": "markdown",
      "source": [
        "3. How do you define different routes with different HTTP methods in Flask\n"
      ],
      "metadata": {
        "id": "0AFx3eMaBBk0"
      }
    },
    {
      "cell_type": "code",
      "source": [
        "from flask import Flask, request\n",
        "\n",
        "app = Flask(__name__)\n",
        "\n",
        "@app.route(\"/submit\", methods=[\"GET\", \"POST\"])\n",
        "def submit():\n",
        "    if request.method == \"GET\":\n",
        "        return \"This is a GET request\"\n",
        "    elif request.method == \"POST\":\n",
        "        data = request.form.get(\"name\")\n",
        "        return f\"Received POST data: {data}\"\n",
        "\n",
        "if __name__ == \"__main__\":\n",
        "    app.run(debug=True)\n"
      ],
      "metadata": {
        "id": "UY9Nl0TiBJ4H"
      },
      "execution_count": null,
      "outputs": []
    },
    {
      "cell_type": "code",
      "source": [],
      "metadata": {
        "id": "RGoZ81YsBKnd"
      },
      "execution_count": null,
      "outputs": []
    },
    {
      "cell_type": "markdown",
      "source": [
        "4.How do you render HTML templates in Flask\n"
      ],
      "metadata": {
        "id": "i1L8l_0sBLpy"
      }
    },
    {
      "cell_type": "code",
      "source": [
        "myapp/\n",
        "│── app.py\n",
        "│── templates/\n",
        "│   ├── index.html\n",
        "│   └── about.html\n"
      ],
      "metadata": {
        "id": "JiXg_blwBXGw"
      },
      "execution_count": null,
      "outputs": []
    },
    {
      "cell_type": "code",
      "source": [],
      "metadata": {
        "id": "IkU61wHHBXz1"
      },
      "execution_count": null,
      "outputs": []
    },
    {
      "cell_type": "markdown",
      "source": [
        "5.How can you generate URLs for routes in Flask using url_for\n"
      ],
      "metadata": {
        "id": "o7qSzhKrBZQM"
      }
    },
    {
      "cell_type": "code",
      "source": [
        "url_for(endpoint, **values)\n"
      ],
      "metadata": {
        "id": "JNcdy-5mBkz9"
      },
      "execution_count": null,
      "outputs": []
    },
    {
      "cell_type": "code",
      "source": [],
      "metadata": {
        "id": "--AoYf81BlV3"
      },
      "execution_count": null,
      "outputs": []
    },
    {
      "cell_type": "markdown",
      "source": [
        "6. How do you handle forms in Flask\n"
      ],
      "metadata": {
        "id": "kF3EvARUBmD-"
      }
    },
    {
      "cell_type": "code",
      "source": [
        "<!DOCTYPE html>\n",
        "<html>\n",
        "<body>\n",
        "    <form method=\"POST\" action=\"/submit\">\n",
        "        <input type=\"text\" name=\"username\" placeholder=\"Enter your name\">\n",
        "        <input type=\"email\" name=\"email\" placeholder=\"Enter your email\">\n",
        "        <button type=\"submit\">Submit</button>\n",
        "    </form>\n",
        "</body>\n",
        "</html>\n"
      ],
      "metadata": {
        "id": "qC6_yqeYBvNI"
      },
      "execution_count": null,
      "outputs": []
    },
    {
      "cell_type": "code",
      "source": [],
      "metadata": {
        "id": "sWDAsan-Bvzg"
      },
      "execution_count": null,
      "outputs": []
    },
    {
      "cell_type": "markdown",
      "source": [
        "7. How can you validate form data in Flask\n"
      ],
      "metadata": {
        "id": "J4kTebBTBwZb"
      }
    },
    {
      "cell_type": "code",
      "source": [
        "from flask import Flask, request, render_template\n",
        "\n",
        "app = Flask(__name__)\n",
        "\n",
        "@app.route(\"/\", methods=[\"GET\", \"POST\"])\n",
        "def form_page():\n",
        "    error = \"\"\n",
        "    if request.method == \"POST\":\n",
        "        name = request.form.get(\"name\")\n",
        "        email = request.form.get(\"email\")\n",
        "\n",
        "        if not name:\n",
        "            error = \"Name is required\"\n",
        "        elif \"@\" not in email:\n",
        "            error = \"Invalid email address\"\n",
        "        else:\n",
        "            return f\"Hello {name}, your email is {email}\"\n",
        "\n",
        "    return render_template(\"form.html\", error=error)\n",
        "\n",
        "if __name__ == \"__main__\":\n",
        "    app.run(debug=True)\n"
      ],
      "metadata": {
        "id": "krFOClCvB7TE"
      },
      "execution_count": null,
      "outputs": []
    },
    {
      "cell_type": "markdown",
      "source": [
        "8. How do you manage sessions in Flask\n"
      ],
      "metadata": {
        "id": "d2TSCaXyB8EI"
      }
    },
    {
      "cell_type": "code",
      "source": [
        "from flask import Flask, session, redirect, url_for, request\n",
        "\n",
        "app = Flask(__name__)\n",
        "app.secret_key = \"mysecretkey\"  # Required for sessions\n",
        "\n",
        "@app.route(\"/login\", methods=[\"POST\"])\n",
        "def login():\n",
        "    username = request.form.get(\"username\")\n",
        "    session[\"user\"] = username  # Store user in session\n",
        "    return f\"Logged in as {username}\"\n",
        "\n",
        "@app.route(\"/profile\")\n",
        "def profile():\n",
        "    if \"user\" in session:\n",
        "        return f\"Welcome, {session['user']}!\"\n",
        "    return redirect(url_for(\"login_page\"))\n",
        "\n",
        "@app.route(\"/logout\")\n",
        "def logout():\n",
        "    session.pop(\"user\", None)  # Remove user from session\n",
        "    return \"Logged out!\"\n",
        "\n",
        "if __name__ == \"__main__\":\n",
        "    app.run(debug=True)\n"
      ],
      "metadata": {
        "id": "CZC21yjyCFC8"
      },
      "execution_count": null,
      "outputs": []
    },
    {
      "cell_type": "markdown",
      "source": [
        "9. How do you redirect to a different route in Flask\n"
      ],
      "metadata": {
        "id": "F0_pU9igCFtl"
      }
    },
    {
      "cell_type": "code",
      "source": [
        "from flask import Flask, redirect, url_for\n",
        "\n",
        "app = Flask(__name__)\n",
        "\n",
        "@app.route(\"/\")\n",
        "def home():\n",
        "    return \"Home Page\"\n",
        "\n",
        "@app.route(\"/login\")\n",
        "def login():\n",
        "    return \"Login Page\"\n",
        "\n",
        "@app.route(\"/go-to-login\")\n",
        "def go_to_login():\n",
        "    return redirect(url_for(\"login\"))  # Redirects to /login\n",
        "\n",
        "if __name__ == \"__main__\":\n",
        "    app.run(debug=True)\n"
      ],
      "metadata": {
        "id": "HRWlFlaaCNxT"
      },
      "execution_count": null,
      "outputs": []
    },
    {
      "cell_type": "code",
      "source": [],
      "metadata": {
        "id": "6fv95-qCCOwU"
      },
      "execution_count": null,
      "outputs": []
    },
    {
      "cell_type": "markdown",
      "source": [
        "10.How do you handle errors in Flask (e.g., 404)\n"
      ],
      "metadata": {
        "id": "Fuzx6uBcCPp3"
      }
    },
    {
      "cell_type": "code",
      "source": [
        "from flask import Flask, render_template\n",
        "\n",
        "app = Flask(__name__)\n",
        "\n",
        "@app.errorhandler(404)  # Handles 404 errors\n",
        "def page_not_found(error):\n",
        "    return render_template('404.html'), 404\n",
        "\n",
        "@app.errorhandler(500)  # Handles 500 errors\n",
        "def internal_error(error):\n",
        "    return render_template('500.html'), 500\n",
        "\n",
        "@app.route('/')\n",
        "def home():\n",
        "    return \"Welcome to the homepage!\"\n"
      ],
      "metadata": {
        "id": "ZWj50VIvCaIM"
      },
      "execution_count": null,
      "outputs": []
    },
    {
      "cell_type": "markdown",
      "source": [
        "11. How do you structure a Flask app using Blueprints\n"
      ],
      "metadata": {
        "id": "zSH9AphDCbEh"
      }
    },
    {
      "cell_type": "code",
      "source": [
        "myapp/\n",
        "│── app.py                # Main app entry point\n",
        "│── config.py             # Configurations (optional)\n",
        "│── requirements.txt\n",
        "│\n",
        "├── myapp/                # Application package\n",
        "│   ├── __init__.py       # Initializes Flask app\n",
        "│   ├── extensions.py     # For db, login manager, etc.\n",
        "│   │\n",
        "│   ├── auth/             # Auth Blueprint\n",
        "│   │   ├── __init__.py\n",
        "│   │   ├── routes.py\n",
        "│   │   └── forms.py\n",
        "│   │\n",
        "│   ├── blog/             # Blog Blueprint\n",
        "│   │   ├── __init__.py\n",
        "│   │   ├── routes.py\n",
        "│   │   └── models.py\n",
        "│   │\n",
        "│   └── templates/        # Shared templates\n",
        "│\n",
        "└── static/               # Static files\n"
      ],
      "metadata": {
        "id": "NX63EErOCjNm"
      },
      "execution_count": null,
      "outputs": []
    },
    {
      "cell_type": "markdown",
      "source": [
        "12. How do you define a custom Jinja filter in Flask\n"
      ],
      "metadata": {
        "id": "Clf3AkENCkBT"
      }
    },
    {
      "cell_type": "code",
      "source": [
        "from flask import Flask, render_template\n",
        "\n",
        "app = Flask(__name__)\n",
        "\n",
        "# ✅ Custom Jinja Filter\n",
        "@app.template_filter(\"reverse\")\n",
        "def reverse_filter(s):\n",
        "    return s[::-1]  # Reverses a string\n",
        "\n",
        "@app.route(\"/\")\n",
        "def home():\n",
        "    return render_template(\"index.html\", name=\"Flask\")\n"
      ],
      "metadata": {
        "id": "A7Bu_gqTCsSM"
      },
      "execution_count": null,
      "outputs": []
    },
    {
      "cell_type": "markdown",
      "source": [
        "13. How can you redirect with query parameters in Flask\n"
      ],
      "metadata": {
        "id": "Dg2k3s1QCtFD"
      }
    },
    {
      "cell_type": "code",
      "source": [
        "from flask import Flask, redirect, url_for\n",
        "\n",
        "app = Flask(__name__)\n",
        "\n",
        "@app.route('/')\n",
        "def home():\n",
        "    # Redirect to /search?q=flask\n",
        "    return redirect(url_for('search', q='flask', page=2))\n",
        "\n",
        "@app.route('/search')\n",
        "def search():\n",
        "    return \"Search Page\"\n"
      ],
      "metadata": {
        "id": "0qDwi0-NC1lB"
      },
      "execution_count": null,
      "outputs": []
    },
    {
      "cell_type": "markdown",
      "source": [
        "14.How do you return JSON responses in Flask\n"
      ],
      "metadata": {
        "id": "CPHSgFAkC2oB"
      }
    },
    {
      "cell_type": "code",
      "source": [
        "from flask import Flask, jsonify\n",
        "\n",
        "app = Flask(__name__)\n",
        "\n",
        "@app.route('/json')\n",
        "def json_example():\n",
        "    data = {\"message\": \"Hello, Flask!\", \"status\": \"success\"}\n",
        "    return jsonify(data)  # Automatically sets Content-Type to application/json\n",
        "\n",
        "if __name__ == \"__main__\":\n",
        "    app.run(debug=True)\n"
      ],
      "metadata": {
        "id": "KXA6yiqLDOgP"
      },
      "execution_count": null,
      "outputs": []
    },
    {
      "cell_type": "markdown",
      "source": [
        "15.How do you capture URL parameters in Flask?\n"
      ],
      "metadata": {
        "id": "4RWqGjurDPUj"
      }
    },
    {
      "cell_type": "code",
      "source": [
        "from flask import Flask\n",
        "\n",
        "app = Flask(__name__)\n",
        "\n",
        "@app.route('/user/<username>')\n",
        "def show_user(username):\n",
        "    return f\"Hello, {username}!\"\n",
        "\n",
        "@app.route('/post/<int:post_id>')\n",
        "def show_post(post_id):\n",
        "    return f\"Post ID: {post_id}\"\n",
        "\n",
        "if __name__ == \"__main__\":\n",
        "    app.run(debug=True)\n"
      ],
      "metadata": {
        "id": "zH6DoNxSDXG6"
      },
      "execution_count": null,
      "outputs": []
    },
    {
      "cell_type": "code",
      "source": [],
      "metadata": {
        "id": "ZevsrYXlDXzO"
      },
      "execution_count": null,
      "outputs": []
    }
  ]
}